{
 "cells": [
  {
   "cell_type": "markdown",
   "metadata": {},
   "source": [
    "# Reporting-Automation\n",
    "\n",
    "The creation of time consuming tasks that can be completed with automation through strategic coding and programming to then be duplicated.\n",
    "***"
   ]
  },
  {
   "cell_type": "markdown",
   "metadata": {},
   "source": [
    "### Project Overview\n",
    "\n",
    "*This project is the automation of a reports dashboard for a business to get reports, combine date from all their sources transform the data, then the creation of visual elements, and the delivery of those visual elements on a daily, weekly, monthly, quarterly, or yearly basis automatically.*\n",
    "\n",
    "**Things that are required for a smooth creation and integration of the project:**\n",
    "\n",
    "1. Computer: A home base computer that will house all the necessary code, systems, reports, documents, etc.\n",
    "    * Preferrably a computer that has windows as it's operating system\n",
    "2. A cloud based system: Google Drive, OneDrive, Dropbox, etc.\n",
    "    * This is to have all your original files used as your foundation the dashboard will be created from. The cloud based system backs up the files to the cloud and so you can access everything from another device if you need\n",
    "    * If you do not have either of the above you can get by with GitHub which will be linked to this entire project backing up all files, code, documents, etc.\n",
    "3. P.O.S. system or C.R.M. software that you can pull reports from or track sales\n",
    "    * Most C.R.M.'s and P.O.S. systems have a reporting function where you can download and view reports \n",
    "    * For a simple P.O.S. system you should have access to sales, price of product/service, taxes that was payed, how the customer paid, what the customer paid for, and the customers basic info\n",
    "    * The above information is more than enough to create the necessary visual elements for a business\n",
    "\n",
    "*The next section will be the things that will have to be downloaded onto your home base computer instructions to download these will follow below* \n",
    "\n",
    "4. Python: Programming software that will create a program code for the computer to run the project and deliver the results of the project\n",
    "5. VScode: A coding editor to help edit, organize and run the code from Python\n",
    "6. Git/GitHub: An online cloud based system that will help track and store any changes that have been made to the codes and programs that have been created\n",
    "7. Anaconda: A package manager to help prevent dependencies with the codes, virtual environments and workflows.\n",
    "    * This has the Jupyter package as part of the download which is a documentation tool that allows coding, text and instructions to be organized in one place as well as being shared to others if needed.\n",
    "\n",
    "*Throughout the instructions there will be packages/libraries that will have to be downloaded on the computer for the project to work properly with the steps that follow*\n",
    "\n",
    "**All steps including how to download the above items. This will have a set of instructions from start to finish** "
   ]
  },
  {
   "cell_type": "markdown",
   "metadata": {},
   "source": [
    "### Installing Coding Applications\n",
    "\n",
    "Instructions to install the applications on your home base computer to code and automate the entire process. There are 3 applications you need to install on your home base computer\n",
    "\n",
    "1. Python:\n",
    "    * Go to Python.org and hover over \"Downloads\" the latest version of python will be displayed and the version that pulls up will be what you should download for your operating system. ex. windows, macOS, etc.\n",
    "2. VScode:\n",
    "    * a\n",
    "3. Anaconda:\n",
    "    * a\n",
    "4. Git:\n",
    "    * a\n"
   ]
  },
  {
   "cell_type": "markdown",
   "metadata": {},
   "source": [
    "### Computer Setup for Automation\n",
    "\n",
    "folders needed on computer which will connect to vscode and create a directory that the code will be performed"
   ]
  },
  {
   "cell_type": "markdown",
   "metadata": {},
   "source": [
    "### Vscode Directory Setup\n",
    "\n",
    "Setting up vscode in an organized manner to perform transformations in an organized way. You will need to have all the necessary files and folders inside the current working directory to make parts of the code easier understandable and "
   ]
  },
  {
   "cell_type": "markdown",
   "metadata": {},
   "source": [
    "### Saving Documentation Notebook as a PDF\n",
    "\n",
    "saving as pdf for easy viewing of instructions"
   ]
  }
 ],
 "metadata": {
  "kernelspec": {
   "display_name": "base",
   "language": "python",
   "name": "python3"
  },
  "language_info": {
   "name": "python",
   "version": "3.11.3"
  },
  "orig_nbformat": 4
 },
 "nbformat": 4,
 "nbformat_minor": 2
}
